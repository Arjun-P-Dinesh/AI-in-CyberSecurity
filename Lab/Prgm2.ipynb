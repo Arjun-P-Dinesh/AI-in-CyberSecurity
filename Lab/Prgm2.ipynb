{
 "cells": [
  {
   "cell_type": "code",
   "execution_count": 1,
   "metadata": {},
   "outputs": [],
   "source": [
    "import numpy as np"
   ]
  },
  {
   "cell_type": "code",
   "execution_count": 2,
   "metadata": {},
   "outputs": [
    {
     "name": "stdout",
     "output_type": "stream",
     "text": [
      "[0.14614408 0.57713842 0.23076546 0.94800423 0.89798006 0.68147674\n",
      " 0.68293471 0.92387423 0.41590443 0.69408761]\n"
     ]
    }
   ],
   "source": [
    "a = np.random.rand(10)\n",
    "print(a)"
   ]
  },
  {
   "cell_type": "code",
   "execution_count": 3,
   "metadata": {},
   "outputs": [
    {
     "name": "stdout",
     "output_type": "stream",
     "text": [
      "(10,)\n"
     ]
    }
   ],
   "source": [
    "print(a.shape)"
   ]
  },
  {
   "cell_type": "markdown",
   "metadata": {},
   "source": [
    "the above array like this (10,), this is callled rank 1 array. so convert it to (10,1) array<br>\n",
    "when you're implementing logistic regression or neural networks that you just do not use these rank 1 arrays."
   ]
  },
  {
   "cell_type": "code",
   "execution_count": 5,
   "metadata": {},
   "outputs": [
    {
     "name": "stdout",
     "output_type": "stream",
     "text": [
      "[[0.00780751]\n",
      " [0.77706961]\n",
      " [0.22448841]\n",
      " [0.44998049]\n",
      " [0.95845997]\n",
      " [0.74668823]\n",
      " [0.16364981]\n",
      " [0.65963734]\n",
      " [0.74891262]\n",
      " [0.2930725 ]]\n"
     ]
    }
   ],
   "source": [
    "a = np.random.rand(10,1)\n",
    "print(a)"
   ]
  },
  {
   "cell_type": "code",
   "execution_count": null,
   "metadata": {},
   "outputs": [],
   "source": []
  }
 ],
 "metadata": {
  "kernelspec": {
   "display_name": "clg",
   "language": "python",
   "name": "python3"
  },
  "language_info": {
   "codemirror_mode": {
    "name": "ipython",
    "version": 3
   },
   "file_extension": ".py",
   "mimetype": "text/x-python",
   "name": "python",
   "nbconvert_exporter": "python",
   "pygments_lexer": "ipython3",
   "version": "3.12.1"
  }
 },
 "nbformat": 4,
 "nbformat_minor": 2
}
